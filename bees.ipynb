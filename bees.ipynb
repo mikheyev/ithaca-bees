{
 "metadata": {
  "name": ""
 },
 "nbformat": 3,
 "nbformat_minor": 0,
 "worksheets": [
  {
   "cells": [
    {
     "cell_type": "markdown",
     "metadata": {},
     "source": [
      "# Population genetic changes in Ithaca, NY honeybees\n",
      "### This project uses museum bees from 1977 and present-day samples to understand how feral bees area affected by management\n",
      "\n",
      "Note: This notebook starts afer SNP calling and lrt tests by angsd."
     ]
    },
    {
     "cell_type": "code",
     "collapsed": false,
     "input": [],
     "language": "python",
     "metadata": {},
     "outputs": []
    }
   ],
   "metadata": {}
  }
 ]
}