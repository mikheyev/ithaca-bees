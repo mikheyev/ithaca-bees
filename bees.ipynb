{
 "metadata": {
  "name": ""
 },
 "nbformat": 3,
 "nbformat_minor": 0,
 "worksheets": [
  {
   "cells": [
    {
     "cell_type": "markdown",
     "metadata": {},
     "source": [
      "# Population genetic changes in Ithaca, NY honeybees\n",
      "### This project uses museum bees from 1977 and present-day samples to understand how feral bees area affected by management\n",
      "\n",
      "####Notes:\n",
      "\n",
      "  - This notebook starts afer SNP calling and lrt tests by angsd.\n",
      "  - This script is meant to be run on the Tombo cluster"
     ]
    },
    {
     "cell_type": "code",
     "collapsed": false,
     "input": [
      "# get rid of repetitive regions\n",
      "!(head -10000 data/recalibrated.filtered.passed.vcf | grep ^# ; intersectBed -v -a data/recalibrated.filtered.passed.vcf -b ../ref/repeat/amel4.5.fa.out.gff ) > data/recalibrated.filtered.passed.repeatmasked.vcf"
     ],
     "language": "python",
     "metadata": {},
     "outputs": []
    },
    {
     "cell_type": "code",
     "collapsed": false,
     "input": [
      "# use vcftools to get Fst differences between European and African bees\n",
      "!vcftools --vcf data/recalibrated.filtered.passed.repeatmasked.vcf --weir-fst-pop data/vcftools/ahb.txt --weir-fst-pop data/vcftools/ehb.txt"
     ],
     "language": "python",
     "metadata": {},
     "outputs": [
      {
       "output_type": "stream",
       "stream": "stdout",
       "text": [
        "\r\n",
        "VCFtools - v0.1.9.0\r\n",
        "(C) Adam Auton 2009\r\n",
        "\r\n",
        "Parameters as interpreted:\r\n",
        "\t--vcf data/recalibrated.filtered.passed.vcf\r\n",
        "\t--weir-fst-pop data/vcftools/ahb.txt\r\n",
        "\t--weir-fst-pop data/vcftools/ehb.txt\r\n",
        "\r\n"
       ]
      },
      {
       "output_type": "stream",
       "stream": "stdout",
       "text": [
        "Reading Index file.\r\n"
       ]
      },
      {
       "output_type": "stream",
       "stream": "stdout",
       "text": [
        "File contains 6708843 entries and 73 individuals.\r\n"
       ]
      },
      {
       "output_type": "stream",
       "stream": "stdout",
       "text": [
        "Applying Required Filters.\r\n"
       ]
      },
      {
       "output_type": "stream",
       "stream": "stdout",
       "text": [
        "After filtering, kept 73 out of 73 Individuals\r\n",
        "After filtering, kept 6708843 out of a possible 6708843 Sites\r\n",
        "Outputting Weir and Cockerham Fst estimates.\r\n"
       ]
      },
      {
       "output_type": "stream",
       "stream": "stdout",
       "text": [
        "\tFst: Only using biallelic sites.\r\n"
       ]
      },
      {
       "output_type": "stream",
       "stream": "stdout",
       "text": [
        "Weir and Cockerham mean Fst estimate: 0.14907\r\n",
        "Weir and Cockerham weighted Fst estimate: 0.075324\r\n"
       ]
      },
      {
       "output_type": "stream",
       "stream": "stdout",
       "text": [
        "Run Time = 7955.00 seconds\r\n"
       ]
      }
     ],
     "prompt_number": 7
    },
    {
     "cell_type": "code",
     "collapsed": false,
     "input": [
      "!mv out.weir.fst data/vcftools/ahb.weir.fst\n",
      "#create CSV file for database input\n",
      "!(echo chrom,pos,fst; awk -v OFS=\",\" '$3!=\"nan\" && NR>1 {$1=$1;print}' data/vcftools/ahb.weir.fst) > data/vcftools/ahb.weir.fst.csv"
     ],
     "language": "python",
     "metadata": {},
     "outputs": [
      {
       "output_type": "stream",
       "stream": "stdout",
       "text": [
        "\r\n"
       ]
      }
     ],
     "prompt_number": 8
    },
    {
     "cell_type": "code",
     "collapsed": false,
     "input": [
      "# use vcftools to remove non-Ithaca samples\n",
      "!vcftools --vcf data/recalibrated.filtered.passed.repeatmasked.vcf --recode-to-stream --remove data/vcftools/non-ithaca.txt > data/ithaca.vcf"
     ],
     "language": "python",
     "metadata": {},
     "outputs": [],
     "prompt_number": 11
    },
    {
     "cell_type": "code",
     "collapsed": false,
     "input": [
      "# convert data to beagle format\n",
      "chromosomes = !grep -m1 \">\" ../ref/amel4.5.fa | tr -d \">\" |cut -d \" \" -f1\n",
      "for i in chromosomes:\n",
      "    !(head -10000 data/ithaca.vcf| grep ^# |grep -v ^##INFO; grep $i data/ithaca.vcf) | java -jar /apps/MikheyevU/sasha/beagle_phase/vcf2beagle.jar ? $i"
     ],
     "language": "python",
     "metadata": {},
     "outputs": [
      {
       "output_type": "stream",
       "stream": "stdout",
       "text": [
        "Exception in thread \"main\" java.lang.IllegalArgumentException: Missing \"#CHROM\" header line in VCF file\r\n",
        "\tat vcf.VcfIterator.readHeaderLines(VcfIterator.java:192)\r\n",
        "\tat vcf.VcfIterator.<init>(VcfIterator.java:164)\r\n",
        "\tat vcf.VcfIterator.<init>(VcfIterator.java:122)\r\n",
        "\tat vcf.VcfUtils.stdinVcfIt(VcfUtils.java:43)\r\n",
        "\tat vcf.Vcf2Beagle.main(Vcf2Beagle.java:48)\r\n"
       ]
      }
     ],
     "prompt_number": 10
    },
    {
     "cell_type": "code",
     "collapsed": false,
     "input": [
      "chromosomes"
     ],
     "language": "python",
     "metadata": {},
     "outputs": [
      {
       "metadata": {},
       "output_type": "pyout",
       "prompt_number": 2,
       "text": [
        "['Group1',\n",
        " 'Group2',\n",
        " 'Group3',\n",
        " 'Group4',\n",
        " 'Group5',\n",
        " 'Group6',\n",
        " 'Group7',\n",
        " 'Group8',\n",
        " 'Group9',\n",
        " 'Group10',\n",
        " 'Group11',\n",
        " 'Group12',\n",
        " 'Group13',\n",
        " 'Group14',\n",
        " 'Group15',\n",
        " 'Group16']"
       ]
      }
     ],
     "prompt_number": 2
    },
    {
     "cell_type": "code",
     "collapsed": false,
     "input": [],
     "language": "python",
     "metadata": {},
     "outputs": []
    }
   ],
   "metadata": {}
  }
 ]
}